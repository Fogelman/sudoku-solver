{
 "cells": [
  {
   "cell_type": "code",
   "execution_count": 1,
   "metadata": {},
   "outputs": [],
   "source": [
    "%matplotlib inline\n",
    "import cv2\n",
    "import os\n",
    "import matplotlib.pyplot as plt\n",
    "import numpy as np\n",
    "import joblib\n",
    "\n",
    "from skimage import  morphology, filters, color, measure\n",
    "from tensorflow import keras\n",
    "size = (2,2)"
   ]
  },
  {
   "cell_type": "code",
   "execution_count": 2,
   "metadata": {},
   "outputs": [],
   "source": [
    "def contrast(img):\n",
    "    clahe = cv2.createCLAHE(clipLimit=0.2, tileGridSize=(15,15))\n",
    "    return clahe.apply(img)\n",
    "\n",
    "def threshold(img):\n",
    "    thresh = filters.threshold_local(img, 91, offset=18)\n",
    "    return img > thresh\n",
    "\n",
    "def load(filename, folder=\"sudoku\"):\n",
    "    print(filename)\n",
    "    basedir = os.path.join(os.getcwd(), folder, filename)\n",
    "    return cv2.imread(basedir, cv2.IMREAD_GRAYSCALE)\n",
    "\n",
    "def show(img, figsize=(8,8), title=None):\n",
    "    plt.figure(figsize=figsize)\n",
    "    \n",
    "    if(title):\n",
    "        plt.title(title)\n",
    "    plt.imshow(img, interpolation=\"none\", cmap=\"gray\")\n",
    "    plt.show()\n",
    "    \n",
    "def outliers(data):\n",
    "    arr = []\n",
    "    threshold=3\n",
    "    mean = np.mean(data)\n",
    "    std =np.std(data)\n",
    "\n",
    "    for y in data:\n",
    "        z_score= (y - mean)/std \n",
    "        if np.abs(z_score) <= threshold:\n",
    "            arr.append(y)\n",
    "    return arr\n",
    "\n",
    "\n",
    "def select(x):\n",
    "    q1, q3= np.percentile(x,[25,75])\n",
    "    iqr = q3 - q1\n",
    "    min_area = q1 -(1.5 * iqr) \n",
    "    max_area = q3 +(1.5 * iqr)\n",
    "    \n",
    "    return[min_area, max_area]\n",
    "\n",
    "\n",
    "def empty(matrix, boxes):\n",
    "    x = []\n",
    "    for i in range(len(matrix)):\n",
    "        line = \"\"\n",
    "        for j in range(len(matrix[i])):\n",
    "            index = matrix[i][j][0]\n",
    "            if boxes[index]['filled'] != 1:\n",
    "                line += \"x\"\n",
    "            else:\n",
    "                line += \"-\"\n",
    "        x.append(line)\n",
    "    return x\n",
    "\n",
    "def predict(matrix, boxes, modelname):\n",
    "    model_cnn = keras.models.load_model(modelname)\n",
    "    x = []\n",
    "    for i in range(len(matrix)):\n",
    "        line = \"\"\n",
    "        for j in range(len(matrix[i])):\n",
    "            index = matrix[i][j][0]\n",
    "            if boxes[index]['filled'] < 1:\n",
    "                image = ~boxes[index]['clean']\n",
    "                h,w = image.shape\n",
    "                w4 = int(w/3.5)\n",
    "                h4 = int(h/3.5)\n",
    "                cropped = image[h4:h-h4 ,w4:w-(w4) ]\n",
    "                resized = cv2.resize((cropped).astype(np.uint8), (28,28))\n",
    "                pred = model_cnn.predict_proba(resized.reshape(1,28,28,1).astype(np.float16))\n",
    "                line += str(np.argmax(pred))\n",
    "            else:\n",
    "                line += \"-\"\n",
    "        x.append(line)\n",
    "    return x\n",
    "\n",
    "def compare(x,y, blank=False):\n",
    "    \n",
    "    errors = 0\n",
    "    for i in range(len(x)):\n",
    "        for j in range(len(x[0])):\n",
    "#             print(i,j)\n",
    "\n",
    "            if(blank):\n",
    "                if(y[i][j] == \"-\" and x[i][j] != \"-\" or x[i][j] == \"-\" and y[i][j] != \"-\"):\n",
    "                    errors+=1\n",
    "            else:\n",
    "                if(y[i][j] != x[i][j]):\n",
    "                    errors+=1\n",
    "                    print(f\"Esperado {y[i][j]} (y) e recebeu {x[i][j]} (x) na posição ({i}, {j})\")\n",
    "    return 1- (errors/(len(x)*len(x[0])))\n",
    "\n",
    "def digits(opening, areas, region):\n",
    "    mask = np.zeros_like(opening)\n",
    "    min_area, max_area = select(areas)\n",
    "    boxes = {}\n",
    "    count = 0\n",
    "    for obj in region:\n",
    "        area = obj[\"area\"]\n",
    "\n",
    "        if (area > min_area and area < max_area):\n",
    "            bbox = obj.bbox\n",
    "            mask[bbox[0]:bbox[2],bbox[1]:bbox[3]]|= (obj.filled_image)\n",
    "            boxes[obj.label] = {}\n",
    "            boxes[obj.label]['mask'] = (opening[bbox[0]:bbox[2],bbox[1]:bbox[3]] & (obj.filled_image))\n",
    "            boxes[obj.label]['clean'] =  (boxes[obj.label]['mask'] | (~obj.filled_image))\n",
    "\n",
    "            # Porcentagem de pixeis preenchidos em cada região\n",
    "            boxes[obj.label]['filled'] = obj.area/obj.filled_area\n",
    "            boxes[obj.label]['bbox'] = list(bbox)\n",
    "            count +=1\n",
    "\n",
    "    return boxes, mask\n",
    "\n",
    "def sort(x):\n",
    "    return sorted(x, key = lambda x: x[2])\n"
   ]
  },
  {
   "cell_type": "code",
   "execution_count": 3,
   "metadata": {},
   "outputs": [],
   "source": [
    "sudoku = os.path.join(os.getcwd(), 'sudoku')\n",
    "files = [os.path.splitext(x) for x in os.listdir(sudoku)]"
   ]
  },
  {
   "cell_type": "code",
   "execution_count": 4,
   "metadata": {},
   "outputs": [
    {
     "name": "stdout",
     "output_type": "stream",
     "text": [
      "davidf2-5.png\n"
     ]
    },
    {
     "data": {
      "image/png": "[encoded data removed]",
      "text/plain": [
       "<Figure size 144x144 with 1 Axes>"
      ]
     },
     "metadata": {
      "needs_background": "light"
     },
     "output_type": "display_data"
    }
   ],
   "source": [
    "filename = 'davidf2-5'\n",
    "basedir = os.path.join(os.getcwd(), 'sudoku')\n",
    "img = load(filename+'.png')\n",
    "show(img, figsize=size)"
   ]
  },
  {
   "cell_type": "code",
   "execution_count": 5,
   "metadata": {},
   "outputs": [
    {
     "data": {
      "text/plain": [
       "<Figure size 144x144 with 0 Axes>"
      ]
     },
     "metadata": {},
     "output_type": "display_data"
    },
    {
     "data": {
      "image/png": "[encoded data removed]",
      "text/plain": [
       "<Figure size 144x144 with 1 Axes>"
      ]
     },
     "metadata": {
      "needs_background": "light"
     },
     "output_type": "display_data"
    }
   ],
   "source": [
    "img_clahe = contrast(img)\n",
    "plt.figure(figsize=size)\n",
    "show(img_clahe, figsize=size, title=\"Clahe\")"
   ]
  },
  {
   "cell_type": "code",
   "execution_count": 6,
   "metadata": {},
   "outputs": [
    {
     "data": {
      "image/png": "[encoded data removed]",
      "text/plain": [
       "<Figure size 144x144 with 1 Axes>"
      ]
     },
     "metadata": {
      "needs_background": "light"
     },
     "output_type": "display_data"
    }
   ],
   "source": [
    "clean = threshold(img_clahe)\n",
    "show(img_clahe, figsize=size, title='threshold local')"
   ]
  },
  {
   "cell_type": "code",
   "execution_count": 7,
   "metadata": {},
   "outputs": [
    {
     "data": {
      "image/png": "[encoded data removed]",
      "text/plain": [
       "<Figure size 144x144 with 1 Axes>"
      ]
     },
     "metadata": {
      "needs_background": "light"
     },
     "output_type": "display_data"
    }
   ],
   "source": [
    "opening = ~morphology.remove_small_objects(~clean, min_size=30)\n",
    "show(opening, figsize=size)"
   ]
  },
  {
   "cell_type": "code",
   "execution_count": 8,
   "metadata": {},
   "outputs": [
    {
     "data": {
      "image/png": "[encoded data removed]",
      "text/plain": [
       "<Figure size 144x144 with 1 Axes>"
      ]
     },
     "metadata": {
      "needs_background": "light"
     },
     "output_type": "display_data"
    }
   ],
   "source": [
    "label = morphology.label(opening, connectivity=2)\n",
    "show(color.label2rgb(label), figsize=size)"
   ]
  },
  {
   "cell_type": "code",
   "execution_count": 9,
   "metadata": {},
   "outputs": [],
   "source": [
    "region = measure.regionprops(label)"
   ]
  },
  {
   "cell_type": "code",
   "execution_count": 10,
   "metadata": {},
   "outputs": [],
   "source": [
    "areas = []\n",
    "for obj in region:\n",
    "    area = obj[\"area\"]\n",
    "    if area > 20 :\n",
    "        areas.append(area)\n",
    "    "
   ]
  },
  {
   "cell_type": "code",
   "execution_count": 11,
   "metadata": {},
   "outputs": [
    {
     "data": {
      "image/png": "[encoded data removed]",
      "text/plain": [
       "<Figure size 144x144 with 1 Axes>"
      ]
     },
     "metadata": {
      "needs_background": "light"
     },
     "output_type": "display_data"
    }
   ],
   "source": [
    "fig, ax = plt.subplots(figsize=size)\n",
    "ax.set_title('BOXPLOT Areas')\n",
    "ax.boxplot(outliers(areas))\n",
    "plt.show()"
   ]
  },
  {
   "cell_type": "code",
   "execution_count": 12,
   "metadata": {},
   "outputs": [],
   "source": [
    "\n",
    "        #         imagem |= (label == obj.label)\n",
    "boxes, mask = digits(opening, areas, region)   "
   ]
  },
  {
   "cell_type": "code",
   "execution_count": 13,
   "metadata": {},
   "outputs": [
    {
     "data": {
      "image/png": "[encoded data removed]",
      "text/plain": [
       "<Figure size 144x144 with 1 Axes>"
      ]
     },
     "metadata": {
      "needs_background": "light"
     },
     "output_type": "display_data"
    }
   ],
   "source": [
    "show(mask, figsize=size, title='Label Mask')"
   ]
  },
  {
   "cell_type": "code",
   "execution_count": 14,
   "metadata": {},
   "outputs": [
    {
     "data": {
      "image/png": "[encoded data removed]",
      "text/plain": [
       "<Figure size 144x144 with 1 Axes>"
      ]
     },
     "metadata": {
      "needs_background": "light"
     },
     "output_type": "display_data"
    }
   ],
   "source": [
    "show(mask& opening, figsize=size, title='Label Mask')"
   ]
  },
  {
   "cell_type": "code",
   "execution_count": 15,
   "metadata": {},
   "outputs": [],
   "source": [
    "points = [[x] + boxes[x]['bbox'] + [boxes[x]['filled']] for x in boxes.keys()]\n",
    "points = sorted(points, key = lambda y: y[1])\n",
    "chunks = np.asarray(points).reshape(9,9,6)\n",
    "\n",
    "def sort(x):\n",
    "    return sorted(x, key = lambda x: x[2])\n",
    "\n",
    "matrixM = map(sort, chunks)\n",
    "matrix = list(matrixM)"
   ]
  },
  {
   "cell_type": "code",
   "execution_count": 16,
   "metadata": {
    "scrolled": true
   },
   "outputs": [
    {
     "data": {
      "image/png": "[encoded data removed]",
      "text/plain": [
       "<Figure size 144x144 with 1 Axes>"
      ]
     },
     "metadata": {
      "needs_background": "light"
     },
     "output_type": "display_data"
    }
   ],
   "source": [
    "index = matrix[2][1][0].astype(int)\n",
    "plt.figure(figsize=(2,2))\n",
    "plt.imshow(~boxes[index]['clean'], interpolation=\"none\", cmap=\"gray\", vmin=0, vmax=1)\n",
    "plt.show()"
   ]
  },
  {
   "cell_type": "code",
   "execution_count": 17,
   "metadata": {},
   "outputs": [],
   "source": [
    "resized = cv2.resize((~boxes[index]['clean']).astype(np.uint8), (28,28))"
   ]
  },
  {
   "cell_type": "code",
   "execution_count": 18,
   "metadata": {},
   "outputs": [],
   "source": [
    "model_cnn = keras.models.load_model('mnist-model.h5')"
   ]
  },
  {
   "cell_type": "code",
   "execution_count": 19,
   "metadata": {},
   "outputs": [],
   "source": [
    "x = predict(matrix, boxes, 'mnist-model.h5')"
   ]
  },
  {
   "cell_type": "code",
   "execution_count": 20,
   "metadata": {},
   "outputs": [],
   "source": [
    "with open(os.path.join(basedir,f'{filename}.txt')) as file:\n",
    "    y = file.read().split()"
   ]
  },
  {
   "cell_type": "code",
   "execution_count": 21,
   "metadata": {},
   "outputs": [
    {
     "name": "stdout",
     "output_type": "stream",
     "text": [
      "Esperado 5 (y) e recebeu 3 (x) na posição (2, 8)\n",
      "Esperado 1 (y) e recebeu 8 (x) na posição (3, 0)\n",
      "Esperado 2 (y) e recebeu 3 (x) na posição (3, 8)\n",
      "Esperado 6 (y) e recebeu 8 (x) na posição (4, 6)\n",
      "Esperado 1 (y) e recebeu 0 (x) na posição (5, 7)\n",
      "Esperado 2 (y) e recebeu 3 (x) na posição (6, 1)\n"
     ]
    },
    {
     "data": {
      "text/plain": [
       "0.9259259259259259"
      ]
     },
     "execution_count": 21,
     "metadata": {},
     "output_type": "execute_result"
    }
   ],
   "source": [
    "compare(x,y)"
   ]
  },
  {
   "cell_type": "code",
   "execution_count": 22,
   "metadata": {},
   "outputs": [
    {
     "data": {
      "text/plain": [
       "['5--82-3--',\n",
       " '-------7-',\n",
       " '---43--23',\n",
       " '869----33',\n",
       " '--5-1-8--',\n",
       " '38----507',\n",
       " '83--96---',\n",
       " '-5-------',\n",
       " '--1-52--3']"
      ]
     },
     "execution_count": 22,
     "metadata": {},
     "output_type": "execute_result"
    }
   ],
   "source": [
    "x"
   ]
  },
  {
   "cell_type": "code",
   "execution_count": 23,
   "metadata": {},
   "outputs": [
    {
     "data": {
      "text/plain": [
       "['5--82-3--',\n",
       " '-------7-',\n",
       " '---43--25',\n",
       " '169----32',\n",
       " '--5-1-6--',\n",
       " '38----517',\n",
       " '82--96---',\n",
       " '-5-------',\n",
       " '--1-52--3']"
      ]
     },
     "execution_count": 23,
     "metadata": {},
     "output_type": "execute_result"
    }
   ],
   "source": [
    "y"
   ]
  },
  {
   "cell_type": "code",
   "execution_count": null,
   "metadata": {},
   "outputs": [],
   "source": []
  },
  {
   "cell_type": "code",
   "execution_count": 24,
   "metadata": {},
   "outputs": [],
   "source": [
    "!code ."
   ]
  },
  {
   "cell_type": "code",
   "execution_count": null,
   "metadata": {},
   "outputs": [],
   "source": []
  }
 ],
 "metadata": {
  "kernelspec": {
   "display_name": "Python 3",
   "language": "python",
   "name": "python3"
  },
  "language_info": {
   "codemirror_mode": {
    "name": "ipython",
    "version": 3
   },
   "file_extension": ".py",
   "mimetype": "text/x-python",
   "name": "python",
   "nbconvert_exporter": "python",
   "pygments_lexer": "ipython3",
   "version": "3.6.8"
  }
 },
 "nbformat": 4,
 "nbformat_minor": 4
}
